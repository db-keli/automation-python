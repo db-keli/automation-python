{
 "cells": [
  {
   "cell_type": "code",
   "execution_count": 1,
   "metadata": {},
   "outputs": [],
   "source": [
    "from bs4 import BeautifulSoup"
   ]
  },
  {
   "cell_type": "code",
   "execution_count": 10,
   "metadata": {},
   "outputs": [],
   "source": [
    "simple_html = '''<!doctype html>\n",
    "<html class=\"no-js\" lang=\"\">\n",
    "    <head>\n",
    "        <title>Test - A Sample Website</title>\n",
    "        <meta charset=\"utf-8\">\n",
    "        <link rel=\"stylesheet\" href=\"css/normalize.css\">\n",
    "        <link rel=\"stylesheet\" href=\"css/main.css\">\n",
    "    </head>\n",
    "    <body>\n",
    "        <h1 id='site_title'>Test Website</h1>\n",
    "        <hr></hr>\n",
    "        <div class=\"article\">\n",
    "            <h2><a href=\"article_1.html\">Article 1 Headline</a></h2>\n",
    "            <p>This is a summary of article 1</p>\n",
    "        </div>\n",
    "        <hr></hr>\n",
    "        <div>\n",
    "            <ul>\n",
    "                <li>Kekeli</li>\n",
    "                <li>Mike</li>\n",
    "            </ul>\n",
    "        </div>\n",
    "        <div class=\"article\">\n",
    "            <h2><a href=\"article_2.html\">Article 2 Headline</a></h2>\n",
    "            <p>This is a summary of article 2</p>\n",
    "        </div>\n",
    "        <hr></hr>\n",
    "\n",
    "        <div class='footer'>\n",
    "            <p>Footer Information</p>\n",
    "        </div>\n",
    "\n",
    "        <script src=\"js/vendor/modernizr-3.5.0.min.js\"></script>\n",
    "        <script src=\"js/plugins.js\"></script>\n",
    "        <script src=\"js/main.js\"></script>\n",
    "    </body>\n",
    "</html>'''"
   ]
  },
  {
   "cell_type": "code",
   "execution_count": 11,
   "metadata": {},
   "outputs": [
    {
     "name": "stdout",
     "output_type": "stream",
     "text": [
      "Test Website\n"
     ]
    }
   ],
   "source": [
    "soup = BeautifulSoup(simple_html, 'lxml')\n",
    "\n",
    "h1_tag = soup.find('h1')\n",
    "print(h1_tag.string)"
   ]
  },
  {
   "cell_type": "code",
   "execution_count": 16,
   "metadata": {},
   "outputs": [
    {
     "name": "stdout",
     "output_type": "stream",
     "text": [
      "['Kekeli', 'Mike']\n"
     ]
    }
   ],
   "source": [
    "def find_list_item():\n",
    "    list = soup.find_all('li')\n",
    "    content = []\n",
    "    for e in list:\n",
    "        content.append(e.string)\n",
    "    \n",
    "    print(content)\n",
    "    \n",
    "find_list_item()"
   ]
  },
  {
   "cell_type": "code",
   "execution_count": 21,
   "metadata": {},
   "outputs": [
    {
     "name": "stdout",
     "output_type": "stream",
     "text": [
      "[<div class=\"article\">\n",
      "<h2><a href=\"article_1.html\">Article 1 Headline</a></h2>\n",
      "<p>This is a summary of article 1</p>\n",
      "</div>, <div class=\"article\">\n",
      "<h2><a href=\"article_2.html\">Article 2 Headline</a></h2>\n",
      "<p>This is a summary of article 2</p>\n",
      "</div>]\n"
     ]
    }
   ],
   "source": [
    "def find_subtitle():\n",
    "    paragraph = soup.find_all('div', {'class': 'article'})\n",
    "    print(paragraph)\n",
    "\n",
    "find_subtitle()"
   ]
  },
  {
   "cell_type": "code",
   "execution_count": 24,
   "metadata": {},
   "outputs": [
    {
     "name": "stdout",
     "output_type": "stream",
     "text": [
      "<p>This is a summary of article 1</p>\n"
     ]
    }
   ],
   "source": [
    "def other_paragraphs():\n",
    "    paragraph = soup.find_all('p')\n",
    "    other_paragraphs = [p for p in paragraph if 'article' not in p.attrs.get('class', [ ])]\n",
    "    print(other_paragraphs[0])\n",
    "\n",
    "other_paragraphs()"
   ]
  },
  {
   "cell_type": "code",
   "execution_count": null,
   "metadata": {},
   "outputs": [],
   "source": [
    "        "
   ]
  }
 ],
 "metadata": {
  "kernelspec": {
   "display_name": "venv",
   "language": "python",
   "name": "python3"
  },
  "language_info": {
   "codemirror_mode": {
    "name": "ipython",
    "version": 3
   },
   "file_extension": ".py",
   "mimetype": "text/x-python",
   "name": "python",
   "nbconvert_exporter": "python",
   "pygments_lexer": "ipython3",
   "version": "3.11.4"
  }
 },
 "nbformat": 4,
 "nbformat_minor": 2
}

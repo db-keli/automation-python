{
 "cells": [
  {
   "cell_type": "code",
   "execution_count": 26,
   "metadata": {},
   "outputs": [],
   "source": [
    "from bs4 import BeautifulSoup"
   ]
  },
  {
   "cell_type": "code",
   "execution_count": 10,
   "metadata": {},
   "outputs": [],
   "source": [
    "simple_html = '''<!doctype html>\n",
    "<html class=\"no-js\" lang=\"\">\n",
    "    <head>\n",
    "        <title>Test - A Sample Website</title>\n",
    "        <meta charset=\"utf-8\">\n",
    "        <link rel=\"stylesheet\" href=\"css/normalize.css\">\n",
    "        <link rel=\"stylesheet\" href=\"css/main.css\">\n",
    "    </head>\n",
    "    <body>\n",
    "        <h1 id='site_title'>Test Website</h1>\n",
    "        <hr></hr>\n",
    "        <div class=\"article\">\n",
    "            <h2><a href=\"article_1.html\">Article 1 Headline</a></h2>\n",
    "            <p>This is a summary of article 1</p>\n",
    "        </div>\n",
    "        <hr></hr>\n",
    "        <div>\n",
    "            <ul>\n",
    "                <li>Kekeli</li>\n",
    "                <li>Mike</li>\n",
    "            </ul>\n",
    "        </div>\n",
    "        <div class=\"article\">\n",
    "            <h2><a href=\"article_2.html\">Article 2 Headline</a></h2>\n",
    "            <p>This is a summary of article 2</p>\n",
    "        </div>\n",
    "        <hr></hr>\n",
    "\n",
    "        <div class='footer'>\n",
    "            <p>Footer Information</p>\n",
    "        </div>\n",
    "\n",
    "        <script src=\"js/vendor/modernizr-3.5.0.min.js\"></script>\n",
    "        <script src=\"js/plugins.js\"></script>\n",
    "        <script src=\"js/main.js\"></script>\n",
    "    </body>\n",
    "</html>'''"
   ]
  },
  {
   "cell_type": "code",
   "execution_count": 11,
   "metadata": {},
   "outputs": [
    {
     "name": "stdout",
     "output_type": "stream",
     "text": [
      "Test Website\n"
     ]
    }
   ],
   "source": [
    "soup = BeautifulSoup(simple_html, 'lxml')\n",
    "\n",
    "h1_tag = soup.find('h1')\n",
    "print(h1_tag.string)"
   ]
  },
  {
   "cell_type": "code",
   "execution_count": 16,
   "metadata": {},
   "outputs": [
    {
     "name": "stdout",
     "output_type": "stream",
     "text": [
      "['Kekeli', 'Mike']\n"
     ]
    }
   ],
   "source": [
    "def find_list_item():\n",
    "    list = soup.find_all('li')\n",
    "    content = []\n",
    "    for e in list:\n",
    "        content.append(e.string)\n",
    "    \n",
    "    print(content)\n",
    "    \n",
    "find_list_item()"
   ]
  },
  {
   "cell_type": "code",
   "execution_count": 21,
   "metadata": {},
   "outputs": [
    {
     "name": "stdout",
     "output_type": "stream",
     "text": [
      "[<div class=\"article\">\n",
      "<h2><a href=\"article_1.html\">Article 1 Headline</a></h2>\n",
      "<p>This is a summary of article 1</p>\n",
      "</div>, <div class=\"article\">\n",
      "<h2><a href=\"article_2.html\">Article 2 Headline</a></h2>\n",
      "<p>This is a summary of article 2</p>\n",
      "</div>]\n"
     ]
    }
   ],
   "source": [
    "def find_subtitle():\n",
    "    paragraph = soup.find_all('div', {'class': 'article'})\n",
    "    print(paragraph)\n",
    "\n",
    "find_subtitle()"
   ]
  },
  {
   "cell_type": "code",
   "execution_count": 24,
   "metadata": {},
   "outputs": [
    {
     "name": "stdout",
     "output_type": "stream",
     "text": [
      "<p>This is a summary of article 1</p>\n"
     ]
    }
   ],
   "source": [
    "def other_paragraphs():\n",
    "    paragraph = soup.find_all('p')\n",
    "    other_paragraphs = [p for p in paragraph if 'article' not in p.attrs.get('class', [ ])]\n",
    "    print(other_paragraphs[0])\n",
    "\n",
    "other_paragraphs()"
   ]
  },
  {
   "cell_type": "code",
   "execution_count": 30,
   "metadata": {},
   "outputs": [],
   "source": [
    "import requests\n",
    "import pprint"
   ]
  },
  {
   "cell_type": "code",
   "execution_count": 35,
   "metadata": {},
   "outputs": [
    {
     "name": "stdout",
     "output_type": "stream",
     "text": [
      "<bound method Tag.prettify of <!DOCTYPE html>\n",
      "\n",
      "<html>\n",
      "<head>\n",
      "<title>Example Domain</title>\n",
      "<meta charset=\"utf-8\"/>\n",
      "<meta content=\"text/html; charset=utf-8\" http-equiv=\"Content-type\"/>\n",
      "<meta content=\"width=device-width, initial-scale=1\" name=\"viewport\"/>\n",
      "<style type=\"text/css\">\n",
      "    body {\n",
      "        background-color: #f0f0f2;\n",
      "        margin: 0;\n",
      "        padding: 0;\n",
      "        font-family: -apple-system, system-ui, BlinkMacSystemFont, \"Segoe UI\", \"Open Sans\", \"Helvetica Neue\", Helvetica, Arial, sans-serif;\n",
      "        \n",
      "    }\n",
      "    div {\n",
      "        width: 600px;\n",
      "        margin: 5em auto;\n",
      "        padding: 2em;\n",
      "        background-color: #fdfdff;\n",
      "        border-radius: 0.5em;\n",
      "        box-shadow: 2px 3px 7px 2px rgba(0,0,0,0.02);\n",
      "    }\n",
      "    a:link, a:visited {\n",
      "        color: #38488f;\n",
      "        text-decoration: none;\n",
      "    }\n",
      "    @media (max-width: 700px) {\n",
      "        div {\n",
      "            margin: 0 auto;\n",
      "            width: auto;\n",
      "        }\n",
      "    }\n",
      "    </style>\n",
      "</head>\n",
      "<body>\n",
      "<div>\n",
      "<h1>Example Domain</h1>\n",
      "<p>This domain is for use in illustrative examples in documents. You may use this\n",
      "    domain in literature without prior coordination or asking for permission.</p>\n",
      "<p><a href=\"https://www.iana.org/domains/example\">More information...</a></p>\n",
      "</div>\n",
      "</body>\n",
      "</html>\n",
      ">\n"
     ]
    }
   ],
   "source": [
    "page = requests.get('http://example.com')\n",
    "soup = BeautifulSoup(page.content, 'html.parser')\n",
    "\n",
    "print(soup.prettify)"
   ]
  },
  {
   "cell_type": "code",
   "execution_count": 36,
   "metadata": {},
   "outputs": [
    {
     "data": {
      "text/plain": [
       "'Example Domain'"
      ]
     },
     "execution_count": 36,
     "metadata": {},
     "output_type": "execute_result"
    }
   ],
   "source": [
    "soup.find('h1').string"
   ]
  },
  {
   "cell_type": "code",
   "execution_count": 39,
   "metadata": {},
   "outputs": [
    {
     "name": "stdout",
     "output_type": "stream",
     "text": [
      "b'{\"status\":404,\"title\":\"Not Found\",\"type\":\"https://httpstatuses.com/404\"}'\n"
     ]
    }
   ],
   "source": [
    "page2 = requests.get('http://www.quotes.toscrape.com')\n",
    "print(page2.content)"
   ]
  },
  {
   "cell_type": "code",
   "execution_count": null,
   "metadata": {},
   "outputs": [],
   "source": []
  }
 ],
 "metadata": {
  "kernelspec": {
   "display_name": "venv",
   "language": "python",
   "name": "python3"
  },
  "language_info": {
   "codemirror_mode": {
    "name": "ipython",
    "version": 3
   },
   "file_extension": ".py",
   "mimetype": "text/x-python",
   "name": "python",
   "nbconvert_exporter": "python",
   "pygments_lexer": "ipython3",
   "version": "3.11.4"
  }
 },
 "nbformat": 4,
 "nbformat_minor": 2
}
